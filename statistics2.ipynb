{
 "cells": [
  {
   "cell_type": "markdown",
   "id": "57e6caf3",
   "metadata": {},
   "source": [
    "---------------------------------------------------\n",
    "# Estatística 2\n",
    "---------------------------------------------------"
   ]
  },
  {
   "cell_type": "markdown",
   "id": "28ad026f",
   "metadata": {},
   "source": [
    "---------------------------------------------------\n",
    "\n",
    "## Teste T de Student \n",
    "\n",
    " - É utilizado para ver se há dif entre duas amostras que possuem distrib. normal.\n",
    " - Variância Aproximada\n",
    " - Amostras independentes\n",
    "---------------------------------------------------\n",
    " "
   ]
  },
  {
   "cell_type": "code",
   "execution_count": 7,
   "id": "752cfa48",
   "metadata": {},
   "outputs": [],
   "source": [
    "# importanto o teste t de student\n",
    "from scipy.stats import t\n",
    "from scipy.stats import binom"
   ]
  },
  {
   "cell_type": "code",
   "execution_count": 6,
   "id": "43872294",
   "metadata": {},
   "outputs": [
    {
     "name": "stdout",
     "output_type": "stream",
     "text": [
      "ganhar menos de 80:  0.9139983540240443\n",
      "ganhar mais de 80:  0.08600164597595565\n",
      "Somatório:  0.9999999999999999\n"
     ]
    }
   ],
   "source": [
    "# Média da hora paga por um profissional = 75 biros | amostra c/ 9 | desvpad 10\n",
    "\n",
    "# ganhar menos de 80\n",
    "x = t.cdf(1.5,8) \n",
    "\n",
    "#ganhar mais de 80\n",
    "y = t.sf(1.5, 8)\n",
    "\n",
    "#somatório de ambos os lados\n",
    "z = x + y\n",
    "\n",
    "print(\"ganhar menos de 80: \", x)\n",
    "print(\"ganhar mais de 80: \", y)\n",
    "print(\"Somatório: \", z)"
   ]
  },
  {
   "cell_type": "markdown",
   "id": "fde39754",
   "metadata": {},
   "source": [
    "---------------------------------------------------\n",
    "## Distribuição Binomial\n",
    "\n",
    "- Um num fixo de experimentos\n",
    "- 2 resultados apenas (sucesso ou fracaço | 0 ou 1)\n",
    "- Mesma probabilidade em todos os eventos\n",
    "- Experimentos independentes\n",
    "---------------------------------------------------"
   ]
  },
  {
   "cell_type": "code",
   "execution_count": 9,
   "id": "b0bd9ec2",
   "metadata": {},
   "outputs": [
    {
     "name": "stdout",
     "output_type": "stream",
     "text": [
      "A probabilidade de dar 3x cara em 5 lances, é:  0.31249999999999983\n"
     ]
    }
   ],
   "source": [
    "# jogando 5x uma moeda\n",
    "# cara 3x\n",
    "\n",
    "# - N° x ocorreu evento | Testes | Probabilidades\n",
    "\n",
    "prob = binom.pmf(3, 5, 0.5)\n",
    "\n",
    "print(\"A probabilidade de dar 3x cara em 5 lances, é: \", prob)"
   ]
  },
  {
   "cell_type": "code",
   "execution_count": 15,
   "id": "431ee19a",
   "metadata": {},
   "outputs": [
    {
     "name": "stdout",
     "output_type": "stream",
     "text": [
      "0:  0.31640625\n",
      "1:  0.4218750000000001\n",
      "2:  0.21093750000000006\n",
      "3:  0.046875000000000014\n",
      "4:  0.00390625\n",
      "soma das chances:  1.0000000000000002\n"
     ]
    }
   ],
   "source": [
    "# Passar por 4 sinais de 4 tempos -> chance de pegar o sinal verde (0,1,2,3,4) \n",
    "# Sinal de 4 tempos: green yellow yellow red\n",
    "\n",
    "nenhuma = binom.pmf(0, 4, 0.25)\n",
    "uma = binom.pmf(1, 4, 0.25)\n",
    "duas =binom.pmf(2, 4, 0.25)\n",
    "tres = binom.pmf(3, 4, 0.25)\n",
    "quatro = binom.pmf(4, 4, 0.25)\n",
    "\n",
    "print(\"0: \", nenhuma)\n",
    "print(\"1: \", uma)\n",
    "print(\"2: \", duas)\n",
    "print(\"3: \", tres)\n",
    "print(\"4: \", quatro)\n",
    "\n",
    "#somando\n",
    "x = nenhuma+ uma+ duas+ tres + quatro\n",
    "\n",
    "print(\"soma das chances: \", x )"
   ]
  },
  {
   "cell_type": "code",
   "execution_count": 18,
   "id": "16063b06",
   "metadata": {},
   "outputs": [
    {
     "data": {
      "text/plain": [
       "0.0625"
      ]
     },
     "execution_count": 18,
     "metadata": {},
     "output_type": "execute_result"
    }
   ],
   "source": [
    "# Sinais de dois tempos\n",
    "binom.pmf (4, 4, 0.5)"
   ]
  },
  {
   "cell_type": "code",
   "execution_count": 23,
   "id": "556596f2",
   "metadata": {},
   "outputs": [
    {
     "data": {
      "text/plain": [
       "1.0"
      ]
     },
     "execution_count": 23,
     "metadata": {},
     "output_type": "execute_result"
    }
   ],
   "source": [
    "#prob acumulativa - Quando \n",
    "binom.cdf (4,4,0.25)"
   ]
  },
  {
   "cell_type": "code",
   "execution_count": 25,
   "id": "9c947e58",
   "metadata": {},
   "outputs": [
    {
     "data": {
      "text/plain": [
       "0.011471271514892587"
      ]
     },
     "execution_count": 25,
     "metadata": {},
     "output_type": "execute_result"
    }
   ],
   "source": [
    "#concurso com 12 questões, a chance de acertar 7, \n",
    "#tendo cada questão 4 alternativas\n",
    "\n",
    "# 7 eventos | 12 vezes | 0.25 de prob -> ocorrer 7 vezes um evento, \n",
    "# em 12 oportunidades com 25% de chance cada\n",
    "binom.pmf(7,12,0.25)"
   ]
  },
  {
   "cell_type": "code",
   "execution_count": 28,
   "id": "6cc9e8b0",
   "metadata": {},
   "outputs": [
    {
     "data": {
      "text/plain": [
       "5.960464477539063e-08"
      ]
     },
     "execution_count": 28,
     "metadata": {},
     "output_type": "execute_result"
    }
   ],
   "source": [
    "#acertar as 12\n",
    "binom.pmf(12,12,0.25)"
   ]
  },
  {
   "cell_type": "code",
   "execution_count": null,
   "id": "28401ef9",
   "metadata": {},
   "outputs": [],
   "source": []
  }
 ],
 "metadata": {
  "kernelspec": {
   "display_name": "Python 3 (ipykernel)",
   "language": "python",
   "name": "python3"
  },
  "language_info": {
   "codemirror_mode": {
    "name": "ipython",
    "version": 3
   },
   "file_extension": ".py",
   "mimetype": "text/x-python",
   "name": "python",
   "nbconvert_exporter": "python",
   "pygments_lexer": "ipython3",
   "version": "3.9.7"
  }
 },
 "nbformat": 4,
 "nbformat_minor": 5
}
