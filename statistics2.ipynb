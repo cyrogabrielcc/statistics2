{
 "cells": [
  {
   "cell_type": "markdown",
   "id": "8f549a46",
   "metadata": {},
   "source": [
    "# Estatística 2"
   ]
  },
  {
   "cell_type": "markdown",
   "id": "b5955b27",
   "metadata": {},
   "source": [
    "## Teste T de Student \n",
    "\n",
    " - É utilizado para ver se há dif entre duas amostras que possuem distrib. normal.\n",
    " - Variância Aproximada\n",
    " - Amostras independentes"
   ]
  },
  {
   "cell_type": "code",
   "execution_count": 5,
   "id": "2046318e",
   "metadata": {},
   "outputs": [],
   "source": [
    "# importanto o teste t de student\n",
    "from scipy.stats import t"
   ]
  },
  {
   "cell_type": "code",
   "execution_count": 6,
   "id": "a2c53757",
   "metadata": {},
   "outputs": [
    {
     "name": "stdout",
     "output_type": "stream",
     "text": [
      "ganhar menos de 80:  0.9139983540240443\n",
      "ganhar mais de 80:  0.08600164597595565\n",
      "Somatório:  0.9999999999999999\n"
     ]
    }
   ],
   "source": [
    "# Média da hora paga por um profissional = 75 biros | amostra c/ 9 | desvpad 10\n",
    "\n",
    "# ganhar menos de 80\n",
    "x = t.cdf(1.5,8) \n",
    "\n",
    "#ganhar mais de 80\n",
    "y = t.sf(1.5, 8)\n",
    "\n",
    "#somatório de ambos os lados\n",
    "z = x + y\n",
    "\n",
    "print(\"ganhar menos de 80: \", x)\n",
    "print(\"ganhar mais de 80: \", y)\n",
    "print(\"Somatório: \", z)"
   ]
  },
  {
   "cell_type": "markdown",
   "id": "e351148a",
   "metadata": {},
   "source": [
    "## Distribuição Binomial"
   ]
  },
  {
   "cell_type": "code",
   "execution_count": null,
   "id": "d696348d",
   "metadata": {},
   "outputs": [],
   "source": []
  }
 ],
 "metadata": {
  "kernelspec": {
   "display_name": "Python 3 (ipykernel)",
   "language": "python",
   "name": "python3"
  },
  "language_info": {
   "codemirror_mode": {
    "name": "ipython",
    "version": 3
   },
   "file_extension": ".py",
   "mimetype": "text/x-python",
   "name": "python",
   "nbconvert_exporter": "python",
   "pygments_lexer": "ipython3",
   "version": "3.9.7"
  }
 },
 "nbformat": 4,
 "nbformat_minor": 5
}
