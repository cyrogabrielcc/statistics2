{
 "cells": [
  {
   "cell_type": "markdown",
   "id": "4aed2da1",
   "metadata": {},
   "source": [
    "---------------------------------------------------\n",
    "# Estatística 2\n",
    "---------------------------------------------------"
   ]
  },
  {
   "cell_type": "code",
   "execution_count": 70,
   "id": "35c14bc3",
   "metadata": {},
   "outputs": [],
   "source": [
    "#importando bibliotecas\n",
    "import numpy as np\n",
    "import pandas as pd\n",
    "import statsmodels.api as sm\n",
    "from scipy.stats import t\n",
    "from scipy.stats import binom\n",
    "from scipy.stats import poisson\n",
    "from scipy.stats import chi2_contingency\n",
    "from statsmodels.formula.api import ols\n",
    "from statsmodels.stats.multicomp import MultiComparison"
   ]
  },
  {
   "cell_type": "markdown",
   "id": "d642edf5",
   "metadata": {},
   "source": [
    "---------------------------------------------------\n",
    "\n",
    "## Teste T de Student \n",
    "\n",
    " - É utilizado para ver se há dif entre duas amostras que possuem distrib. normal.\n",
    " - Variância Aproximada\n",
    " - Amostras independentes\n",
    "---------------------------------------------------\n",
    " "
   ]
  },
  {
   "cell_type": "code",
   "execution_count": 50,
   "id": "68ae297e",
   "metadata": {},
   "outputs": [
    {
     "name": "stdout",
     "output_type": "stream",
     "text": [
      "ganhar menos de 80:  0.9139983540240443\n",
      "ganhar mais de 80:  0.08600164597595565\n",
      "Somatório:  0.9999999999999999\n"
     ]
    }
   ],
   "source": [
    "# Média da hora paga por um profissional = 75 biros | amostra c/ 9 | desvpad 10\n",
    "\n",
    "# ganhar menos de 80\n",
    "x = t.cdf(1.5,8) \n",
    "\n",
    "#ganhar mais de 80\n",
    "y = t.sf(1.5, 8)\n",
    "\n",
    "#somatório de ambos os lados\n",
    "z = x + y\n",
    "\n",
    "print(\"ganhar menos de 80: \", x)\n",
    "print(\"ganhar mais de 80: \", y)\n",
    "print(\"Somatório: \", z)"
   ]
  },
  {
   "cell_type": "markdown",
   "id": "5a9641c9",
   "metadata": {},
   "source": [
    "---------------------------------------------------\n",
    "## Distribuição Binomial\n",
    "\n",
    "- Um num fixo de experimentos\n",
    "- 2 resultados apenas (sucesso ou fracaço | 0 ou 1)\n",
    "- Mesma probabilidade em todos os eventos\n",
    "- Experimentos independentes\n",
    "---------------------------------------------------"
   ]
  },
  {
   "cell_type": "code",
   "execution_count": 51,
   "id": "a7665209",
   "metadata": {},
   "outputs": [
    {
     "name": "stdout",
     "output_type": "stream",
     "text": [
      "A probabilidade de dar 3x cara em 5 lances, é:  0.31249999999999983\n"
     ]
    }
   ],
   "source": [
    "# jogando 5x uma moeda\n",
    "# cara 3x\n",
    "\n",
    "# - N° x ocorreu evento | Testes | Probabilidades\n",
    "\n",
    "prob = binom.pmf(3, 5, 0.5)\n",
    "\n",
    "print(\"A probabilidade de dar 3x cara em 5 lances, é: \", prob)"
   ]
  },
  {
   "cell_type": "code",
   "execution_count": 52,
   "id": "f4fe5bb9",
   "metadata": {},
   "outputs": [
    {
     "name": "stdout",
     "output_type": "stream",
     "text": [
      "0:  0.31640625\n",
      "1:  0.4218750000000001\n",
      "2:  0.21093750000000006\n",
      "3:  0.046875000000000014\n",
      "4:  0.00390625\n",
      "soma das chances:  1.0000000000000002\n"
     ]
    }
   ],
   "source": [
    "# Passar por 4 sinais de 4 tempos -> chance de pegar o sinal verde (0,1,2,3,4) \n",
    "# Sinal de 4 tempos: green yellow yellow red\n",
    "\n",
    "nenhuma = binom.pmf(0, 4, 0.25)\n",
    "uma = binom.pmf(1, 4, 0.25)\n",
    "duas =binom.pmf(2, 4, 0.25)\n",
    "tres = binom.pmf(3, 4, 0.25)\n",
    "quatro = binom.pmf(4, 4, 0.25)\n",
    "\n",
    "print(\"0: \", nenhuma)\n",
    "print(\"1: \", uma)\n",
    "print(\"2: \", duas)\n",
    "print(\"3: \", tres)\n",
    "print(\"4: \", quatro)\n",
    "\n",
    "#somando\n",
    "x = nenhuma+ uma+ duas+ tres + quatro\n",
    "\n",
    "print(\"soma das chances: \", x )"
   ]
  },
  {
   "cell_type": "code",
   "execution_count": 53,
   "id": "e1da6431",
   "metadata": {},
   "outputs": [
    {
     "data": {
      "text/plain": [
       "0.0625"
      ]
     },
     "execution_count": 53,
     "metadata": {},
     "output_type": "execute_result"
    }
   ],
   "source": [
    "# Sinais de dois tempos\n",
    "binom.pmf (4, 4, 0.5)"
   ]
  },
  {
   "cell_type": "code",
   "execution_count": 54,
   "id": "87485611",
   "metadata": {},
   "outputs": [
    {
     "data": {
      "text/plain": [
       "1.0"
      ]
     },
     "execution_count": 54,
     "metadata": {},
     "output_type": "execute_result"
    }
   ],
   "source": [
    "#prob acumulativa - Quando \n",
    "binom.cdf (4,4,0.25)"
   ]
  },
  {
   "cell_type": "code",
   "execution_count": 55,
   "id": "dfe8b3ea",
   "metadata": {},
   "outputs": [
    {
     "data": {
      "text/plain": [
       "1.1471271514892587"
      ]
     },
     "execution_count": 55,
     "metadata": {},
     "output_type": "execute_result"
    }
   ],
   "source": [
    "#concurso com 12 questões, a chance de acertar 7, \n",
    "#tendo cada questão 4 alternativas\n",
    "\n",
    "# 7 eventos | 12 vezes | 0.25 de prob -> ocorrer 7 vezes um evento, \n",
    "# em 12 oportunidades com 25% de chance cada\n",
    "binom.pmf(7,12,0.25)*100"
   ]
  },
  {
   "cell_type": "code",
   "execution_count": 56,
   "id": "2cae64ca",
   "metadata": {},
   "outputs": [
    {
     "data": {
      "text/plain": [
       "5.960464477539063e-08"
      ]
     },
     "execution_count": 56,
     "metadata": {},
     "output_type": "execute_result"
    }
   ],
   "source": [
    "#acertar as 12\n",
    "binom.pmf(12,12,0.25)"
   ]
  },
  {
   "cell_type": "markdown",
   "id": "ffd62034",
   "metadata": {},
   "source": [
    "---------------------------------------------------\n",
    "## Distribuição Poisson\n",
    "\n",
    "- Prob de eventos em um determinado tempo\n",
    "- Os eventos a cada intervalo devem ser independentes\n",
    "- Existem tabelas de probabilidade\n",
    "---------------------------------------------------"
   ]
  },
  {
   "cell_type": "markdown",
   "id": "9c7f4844",
   "metadata": {},
   "source": [
    " A média de acidentes por dia é 2"
   ]
  },
  {
   "cell_type": "code",
   "execution_count": 57,
   "id": "a1193766",
   "metadata": {},
   "outputs": [
    {
     "name": "stdout",
     "output_type": "stream",
     "text": [
      "chance de rolar 3:  0.18044704431548356\n",
      "chance de rolar menos de 3:  0.857123460498547\n",
      "chance de rolar mais de 3::  0.14287653950145296\n"
     ]
    }
   ],
   "source": [
    "#chance de rolar 3:\n",
    "a = poisson.pmf(3,2)\n",
    "\n",
    "#chance de rolar menos de 3\n",
    "b = poisson.cdf(3,2)\n",
    "\n",
    "#rolar mais de 3\n",
    "c =poisson.sf(3,2)\n",
    "\n",
    "print(\"chance de rolar 3: \", a)\n",
    "print(\"chance de rolar menos de 3: \", b)\n",
    "print(\"chance de rolar mais de 3:: \", c)"
   ]
  },
  {
   "cell_type": "code",
   "execution_count": 58,
   "id": "4f43c15c",
   "metadata": {},
   "outputs": [
    {
     "name": "stdout",
     "output_type": "stream",
     "text": [
      "rolar 3 ou menos:  0.3233235838169365\n"
     ]
    }
   ],
   "source": [
    "#Rolar 3 ou menos: \n",
    "print(\"rolar 3 ou menos: \",a+c)"
   ]
  },
  {
   "cell_type": "code",
   "execution_count": 59,
   "id": "aec70c9b",
   "metadata": {},
   "outputs": [
    {
     "data": {
      "text/plain": [
       "1.0"
      ]
     },
     "execution_count": 59,
     "metadata": {},
     "output_type": "execute_result"
    }
   ],
   "source": [
    "poisson.cdf(3, 2) + poisson.sf(3, 2)"
   ]
  },
  {
   "cell_type": "markdown",
   "id": "939a42eb",
   "metadata": {},
   "source": [
    "---------------------------------------------------\n",
    "## Distribuição Poisson\n",
    "\n",
    "- Saber se existe diferença significativa\n",
    "- Ou se a diferença é fruto do acaso\n",
    "---------------------------------------------------"
   ]
  },
  {
   "cell_type": "code",
   "execution_count": 64,
   "id": "4510fed0",
   "metadata": {},
   "outputs": [
    {
     "data": {
      "text/plain": [
       "array([[34, 12],\n",
       "       [53, 42]])"
      ]
     },
     "execution_count": 64,
     "metadata": {},
     "output_type": "execute_result"
    }
   ],
   "source": [
    "#pessoas que leem novels - (1,1 lê | 1,2 não lê)\n",
    "\n",
    "novel = np.array([[34, 12],[53,42]])\n",
    "novel"
   ]
  },
  {
   "cell_type": "code",
   "execution_count": 68,
   "id": "371d9505",
   "metadata": {},
   "outputs": [
    {
     "data": {
      "text/plain": [
       "(3.575175241326703,\n",
       " 0.05864926033220706,\n",
       " 1,\n",
       " array([[28.38297872, 17.61702128],\n",
       "        [58.61702128, 36.38297872]]))"
      ]
     },
     "execution_count": 68,
     "metadata": {},
     "output_type": "execute_result"
    }
   ],
   "source": [
    "# se o valor de p é maior que 0.05 não há diferença significativa\n",
    "# Segundo valor é o pvalue\n",
    "chi2_contingency(novel) # 0.05864926033220706, s/ dif sig"
   ]
  },
  {
   "cell_type": "code",
   "execution_count": 69,
   "id": "563d9182",
   "metadata": {
    "scrolled": true
   },
   "outputs": [
    {
     "data": {
      "text/plain": [
       "(8.492576124760276,\n",
       " 0.0035659852860587607,\n",
       " 1,\n",
       " array([[ 86.55256724,  31.44743276],\n",
       "        [513.44743276, 186.55256724]]))"
      ]
     },
     "execution_count": 69,
     "metadata": {},
     "output_type": "execute_result"
    }
   ],
   "source": [
    "novel2 = np.array([[100, 18],[500,200]])\n",
    "chi2_contingency(novel2) #0.0035659852860587607, c/ dif sig"
   ]
  },
  {
   "cell_type": "markdown",
   "id": "544d8288",
   "metadata": {},
   "source": []
  }
 ],
 "metadata": {
  "kernelspec": {
   "display_name": "Python 3 (ipykernel)",
   "language": "python",
   "name": "python3"
  },
  "language_info": {
   "codemirror_mode": {
    "name": "ipython",
    "version": 3
   },
   "file_extension": ".py",
   "mimetype": "text/x-python",
   "name": "python",
   "nbconvert_exporter": "python",
   "pygments_lexer": "ipython3",
   "version": "3.9.7"
  }
 },
 "nbformat": 4,
 "nbformat_minor": 5
}
