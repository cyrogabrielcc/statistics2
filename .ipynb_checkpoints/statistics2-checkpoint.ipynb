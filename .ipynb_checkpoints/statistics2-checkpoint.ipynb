{
 "cells": [
  {
   "cell_type": "markdown",
   "id": "829b9b91",
   "metadata": {},
   "source": [
    "---------------------------------------------------\n",
    "# Estatística 2\n",
    "---------------------------------------------------"
   ]
  },
  {
   "cell_type": "markdown",
   "id": "ccc0cba6",
   "metadata": {},
   "source": [
    "---------------------------------------------------\n",
    "\n",
    "## Teste T de Student \n",
    "\n",
    " - É utilizado para ver se há dif entre duas amostras que possuem distrib. normal.\n",
    " - Variância Aproximada\n",
    " - Amostras independentes\n",
    "---------------------------------------------------\n",
    " "
   ]
  },
  {
   "cell_type": "code",
   "execution_count": 34,
   "id": "fef5d691",
   "metadata": {},
   "outputs": [],
   "source": [
    "# importanto o teste t de student\n",
    "from scipy.stats import t\n",
    "from scipy.stats import binom\n",
    "from scipy.stats import poisson"
   ]
  },
  {
   "cell_type": "code",
   "execution_count": 35,
   "id": "6ada2bc1",
   "metadata": {},
   "outputs": [
    {
     "name": "stdout",
     "output_type": "stream",
     "text": [
      "ganhar menos de 80:  0.9139983540240443\n",
      "ganhar mais de 80:  0.08600164597595565\n",
      "Somatório:  0.9999999999999999\n"
     ]
    }
   ],
   "source": [
    "# Média da hora paga por um profissional = 75 biros | amostra c/ 9 | desvpad 10\n",
    "\n",
    "# ganhar menos de 80\n",
    "x = t.cdf(1.5,8) \n",
    "\n",
    "#ganhar mais de 80\n",
    "y = t.sf(1.5, 8)\n",
    "\n",
    "#somatório de ambos os lados\n",
    "z = x + y\n",
    "\n",
    "print(\"ganhar menos de 80: \", x)\n",
    "print(\"ganhar mais de 80: \", y)\n",
    "print(\"Somatório: \", z)"
   ]
  },
  {
   "cell_type": "markdown",
   "id": "0793d85b",
   "metadata": {},
   "source": [
    "---------------------------------------------------\n",
    "## Distribuição Binomial\n",
    "\n",
    "- Um num fixo de experimentos\n",
    "- 2 resultados apenas (sucesso ou fracaço | 0 ou 1)\n",
    "- Mesma probabilidade em todos os eventos\n",
    "- Experimentos independentes\n",
    "---------------------------------------------------"
   ]
  },
  {
   "cell_type": "code",
   "execution_count": 36,
   "id": "26f49c65",
   "metadata": {},
   "outputs": [
    {
     "name": "stdout",
     "output_type": "stream",
     "text": [
      "A probabilidade de dar 3x cara em 5 lances, é:  0.31249999999999983\n"
     ]
    }
   ],
   "source": [
    "# jogando 5x uma moeda\n",
    "# cara 3x\n",
    "\n",
    "# - N° x ocorreu evento | Testes | Probabilidades\n",
    "\n",
    "prob = binom.pmf(3, 5, 0.5)\n",
    "\n",
    "print(\"A probabilidade de dar 3x cara em 5 lances, é: \", prob)"
   ]
  },
  {
   "cell_type": "code",
   "execution_count": 37,
   "id": "4aaf6a52",
   "metadata": {},
   "outputs": [
    {
     "name": "stdout",
     "output_type": "stream",
     "text": [
      "0:  0.31640625\n",
      "1:  0.4218750000000001\n",
      "2:  0.21093750000000006\n",
      "3:  0.046875000000000014\n",
      "4:  0.00390625\n",
      "soma das chances:  1.0000000000000002\n"
     ]
    }
   ],
   "source": [
    "# Passar por 4 sinais de 4 tempos -> chance de pegar o sinal verde (0,1,2,3,4) \n",
    "# Sinal de 4 tempos: green yellow yellow red\n",
    "\n",
    "nenhuma = binom.pmf(0, 4, 0.25)\n",
    "uma = binom.pmf(1, 4, 0.25)\n",
    "duas =binom.pmf(2, 4, 0.25)\n",
    "tres = binom.pmf(3, 4, 0.25)\n",
    "quatro = binom.pmf(4, 4, 0.25)\n",
    "\n",
    "print(\"0: \", nenhuma)\n",
    "print(\"1: \", uma)\n",
    "print(\"2: \", duas)\n",
    "print(\"3: \", tres)\n",
    "print(\"4: \", quatro)\n",
    "\n",
    "#somando\n",
    "x = nenhuma+ uma+ duas+ tres + quatro\n",
    "\n",
    "print(\"soma das chances: \", x )"
   ]
  },
  {
   "cell_type": "code",
   "execution_count": 38,
   "id": "0093c770",
   "metadata": {},
   "outputs": [
    {
     "data": {
      "text/plain": [
       "0.0625"
      ]
     },
     "execution_count": 38,
     "metadata": {},
     "output_type": "execute_result"
    }
   ],
   "source": [
    "# Sinais de dois tempos\n",
    "binom.pmf (4, 4, 0.5)"
   ]
  },
  {
   "cell_type": "code",
   "execution_count": 39,
   "id": "cdafdaad",
   "metadata": {},
   "outputs": [
    {
     "data": {
      "text/plain": [
       "1.0"
      ]
     },
     "execution_count": 39,
     "metadata": {},
     "output_type": "execute_result"
    }
   ],
   "source": [
    "#prob acumulativa - Quando \n",
    "binom.cdf (4,4,0.25)"
   ]
  },
  {
   "cell_type": "code",
   "execution_count": 40,
   "id": "f38a7595",
   "metadata": {},
   "outputs": [
    {
     "data": {
      "text/plain": [
       "1.1471271514892587"
      ]
     },
     "execution_count": 40,
     "metadata": {},
     "output_type": "execute_result"
    }
   ],
   "source": [
    "#concurso com 12 questões, a chance de acertar 7, \n",
    "#tendo cada questão 4 alternativas\n",
    "\n",
    "# 7 eventos | 12 vezes | 0.25 de prob -> ocorrer 7 vezes um evento, \n",
    "# em 12 oportunidades com 25% de chance cada\n",
    "binom.pmf(7,12,0.25)*100"
   ]
  },
  {
   "cell_type": "code",
   "execution_count": 41,
   "id": "66e0e9a1",
   "metadata": {},
   "outputs": [
    {
     "data": {
      "text/plain": [
       "5.960464477539063e-08"
      ]
     },
     "execution_count": 41,
     "metadata": {},
     "output_type": "execute_result"
    }
   ],
   "source": [
    "#acertar as 12\n",
    "binom.pmf(12,12,0.25)"
   ]
  },
  {
   "cell_type": "markdown",
   "id": "c91b8d8a",
   "metadata": {},
   "source": [
    "---------------------------------------------------\n",
    "## Distribuição Poisson\n",
    "\n",
    "- Prob de eventos em um determinado tempo\n",
    "- Os eventos a cada intervalo devem ser independentes\n",
    "- Existem tabelas de probabilidade\n",
    "---------------------------------------------------"
   ]
  },
  {
   "cell_type": "markdown",
   "id": "cb7dbb49",
   "metadata": {},
   "source": [
    " A média de acidentes por dia é 2"
   ]
  },
  {
   "cell_type": "code",
   "execution_count": 43,
   "id": "07e53713",
   "metadata": {},
   "outputs": [
    {
     "name": "stdout",
     "output_type": "stream",
     "text": [
      "chance de rolar 3:  0.18044704431548356\n",
      "chance de rolar menos de 3:  0.857123460498547\n",
      "chance de rolar mais de 3::  0.14287653950145296\n"
     ]
    }
   ],
   "source": [
    "#chance de rolar 3:\n",
    "a = poisson.pmf(3,2)\n",
    "\n",
    "#chance de rolar menos de 3\n",
    "b = poisson.cdf(3,2)\n",
    "\n",
    "#rolar mais de 3\n",
    "c =poisson.sf(3,2)\n",
    "\n",
    "print(\"chance de rolar 3: \", a)\n",
    "print(\"chance de rolar menos de 3: \", b)\n",
    "print(\"chance de rolar mais de 3:: \", c)"
   ]
  },
  {
   "cell_type": "code",
   "execution_count": 46,
   "id": "6dde66bc",
   "metadata": {},
   "outputs": [
    {
     "name": "stdout",
     "output_type": "stream",
     "text": [
      "rolar 3 ou menos:  0.3233235838169365\n",
      "Rolar mais ou menos de 3:  1.0\n"
     ]
    }
   ],
   "source": [
    "#Rolar 3 ou menos: \n",
    "print(\"rolar 3 ou menos: \",a+c)"
   ]
  },
  {
   "cell_type": "code",
   "execution_count": 47,
   "id": "8f7f46bd",
   "metadata": {},
   "outputs": [
    {
     "data": {
      "text/plain": [
       "1.0"
      ]
     },
     "execution_count": 47,
     "metadata": {},
     "output_type": "execute_result"
    }
   ],
   "source": [
    "poisson.cdf(3, 2) + poisson.sf(3, 2)"
   ]
  },
  {
   "cell_type": "code",
   "execution_count": null,
   "id": "5c7bc7f1",
   "metadata": {},
   "outputs": [],
   "source": []
  }
 ],
 "metadata": {
  "kernelspec": {
   "display_name": "Python 3 (ipykernel)",
   "language": "python",
   "name": "python3"
  },
  "language_info": {
   "codemirror_mode": {
    "name": "ipython",
    "version": 3
   },
   "file_extension": ".py",
   "mimetype": "text/x-python",
   "name": "python",
   "nbconvert_exporter": "python",
   "pygments_lexer": "ipython3",
   "version": "3.9.7"
  }
 },
 "nbformat": 4,
 "nbformat_minor": 5
}
