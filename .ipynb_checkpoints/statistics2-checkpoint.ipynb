{
 "cells": [
  {
   "cell_type": "markdown",
   "id": "778a5cc4",
   "metadata": {},
   "source": [
    "# Estatística 2"
   ]
  },
  {
   "cell_type": "markdown",
   "id": "e58d09a0",
   "metadata": {},
   "source": [
    "## Teste T de Student \n",
    "\n",
    " - É utilizado para ver se há dif entre duas amostras que possuem distrib. normal.\n",
    " - Variância Aproximada\n",
    " - Amostras independentes"
   ]
  },
  {
   "cell_type": "code",
   "execution_count": 5,
   "id": "01cc4a91",
   "metadata": {},
   "outputs": [],
   "source": [
    "# importanto o teste t de student\n",
    "from scipy.stats import t"
   ]
  },
  {
   "cell_type": "code",
   "execution_count": null,
   "id": "a13621d4",
   "metadata": {},
   "outputs": [],
   "source": [
    "# Média da hora paga por um profissional = 75 biros | amostra c/ 9 | desvpad 10\n",
    "\n",
    "# ganhar menos de 80\n",
    "x = t.cdff(1.5,8) \n",
    "\n",
    "#ganhar mais de "
   ]
  },
  {
   "cell_type": "code",
   "execution_count": null,
   "id": "e9ced956",
   "metadata": {},
   "outputs": [],
   "source": []
  }
 ],
 "metadata": {
  "kernelspec": {
   "display_name": "Python 3 (ipykernel)",
   "language": "python",
   "name": "python3"
  },
  "language_info": {
   "codemirror_mode": {
    "name": "ipython",
    "version": 3
   },
   "file_extension": ".py",
   "mimetype": "text/x-python",
   "name": "python",
   "nbconvert_exporter": "python",
   "pygments_lexer": "ipython3",
   "version": "3.9.7"
  }
 },
 "nbformat": 4,
 "nbformat_minor": 5
}
